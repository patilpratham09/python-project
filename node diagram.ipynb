{
 "cells": [
  {
   "cell_type": "code",
   "execution_count": 25,
   "id": "e82432d1-e29a-4500-8507-02098a63e684",
   "metadata": {},
   "outputs": [],
   "source": [
    "import numpy as np\n",
    "import pandas as pd\n",
    "import matplotlib.pyplot as plt\n",
    "import networkx as nx"
   ]
  },
  {
   "cell_type": "code",
   "execution_count": 4,
   "id": "314ba277-0511-4934-8105-8f5ec7758f14",
   "metadata": {},
   "outputs": [],
   "source": [
    "data = pd.read_csv(\"C:/Users/Pratham Patil/Analysis data.csv\")"
   ]
  },
  {
   "cell_type": "code",
   "execution_count": 6,
   "id": "732f91cc-822f-4833-a75d-fd537b559ef3",
   "metadata": {},
   "outputs": [],
   "source": [
    "Data = data[['title','industry/department','company','skills','responsibility']]"
   ]
  },
  {
   "cell_type": "code",
   "execution_count": 7,
   "id": "c110b5a4-cd15-4b51-a6c3-670d6ed5bed8",
   "metadata": {},
   "outputs": [
    {
     "data": {
      "text/html": [
       "<div>\n",
       "<style scoped>\n",
       "    .dataframe tbody tr th:only-of-type {\n",
       "        vertical-align: middle;\n",
       "    }\n",
       "\n",
       "    .dataframe tbody tr th {\n",
       "        vertical-align: top;\n",
       "    }\n",
       "\n",
       "    .dataframe thead th {\n",
       "        text-align: right;\n",
       "    }\n",
       "</style>\n",
       "<table border=\"1\" class=\"dataframe\">\n",
       "  <thead>\n",
       "    <tr style=\"text-align: right;\">\n",
       "      <th></th>\n",
       "      <th>title</th>\n",
       "      <th>industry/department</th>\n",
       "      <th>company</th>\n",
       "      <th>skills</th>\n",
       "      <th>responsibility</th>\n",
       "    </tr>\n",
       "  </thead>\n",
       "  <tbody>\n",
       "    <tr>\n",
       "      <th>0</th>\n",
       "      <td>Finance Analyst</td>\n",
       "      <td>Various/Finance</td>\n",
       "      <td>oliver plus</td>\n",
       "      <td>1. Finance experience\\n2. Advanced Excel\\n3. P...</td>\n",
       "      <td>1. Track labor costs\\n2. Analyze timesheets\\n3...</td>\n",
       "    </tr>\n",
       "    <tr>\n",
       "      <th>1</th>\n",
       "      <td>Senior Business Financial Analyst</td>\n",
       "      <td>Finance</td>\n",
       "      <td>LRQA Group</td>\n",
       "      <td>1.Power BI\\n2.SAP\\n3.Microsoft Office\\n4.Finan...</td>\n",
       "      <td>1. Improve reporting\\n2. Create reports\\n3. Bu...</td>\n",
       "    </tr>\n",
       "    <tr>\n",
       "      <th>2</th>\n",
       "      <td>Finance Analyst</td>\n",
       "      <td>Financial Technology and Retail Technology</td>\n",
       "      <td>NCR Atleos</td>\n",
       "      <td>1. Financial Analysis\\n2. Pricing\\n3. Risk Ass...</td>\n",
       "      <td>1. Bid Profiling\\n2. Pricing Guidance\\n3. Marg...</td>\n",
       "    </tr>\n",
       "    <tr>\n",
       "      <th>3</th>\n",
       "      <td>Business Finance Analyst</td>\n",
       "      <td>Data Analytics and Experience Design</td>\n",
       "      <td>Techmatters Technologies</td>\n",
       "      <td>1.Tableau/Power BI\\n2. Advanced MS Excel\\n3. S...</td>\n",
       "      <td>1. Revenue MIS/Dashboard\\n2. Data Liaison\\n3. ...</td>\n",
       "    </tr>\n",
       "    <tr>\n",
       "      <th>4</th>\n",
       "      <td>Senior Finance Analyst-Reporting and Analysis</td>\n",
       "      <td>Professional Services</td>\n",
       "      <td>Ernst &amp; Young</td>\n",
       "      <td>1. Data Analysis\\n2. Problem Solving\\n3. Accou...</td>\n",
       "      <td>1. Standard Reporting\\n2. Issue Resolution\\n3....</td>\n",
       "    </tr>\n",
       "  </tbody>\n",
       "</table>\n",
       "</div>"
      ],
      "text/plain": [
       "                                           title  \\\n",
       "0                                Finance Analyst   \n",
       "1              Senior Business Financial Analyst   \n",
       "2                                Finance Analyst   \n",
       "3                       Business Finance Analyst   \n",
       "4  Senior Finance Analyst-Reporting and Analysis   \n",
       "\n",
       "                          industry/department                   company  \\\n",
       "0                             Various/Finance               oliver plus   \n",
       "1                                     Finance                LRQA Group   \n",
       "2  Financial Technology and Retail Technology                NCR Atleos   \n",
       "3        Data Analytics and Experience Design  Techmatters Technologies   \n",
       "4                       Professional Services             Ernst & Young   \n",
       "\n",
       "                                              skills  \\\n",
       "0  1. Finance experience\\n2. Advanced Excel\\n3. P...   \n",
       "1  1.Power BI\\n2.SAP\\n3.Microsoft Office\\n4.Finan...   \n",
       "2  1. Financial Analysis\\n2. Pricing\\n3. Risk Ass...   \n",
       "3  1.Tableau/Power BI\\n2. Advanced MS Excel\\n3. S...   \n",
       "4  1. Data Analysis\\n2. Problem Solving\\n3. Accou...   \n",
       "\n",
       "                                      responsibility  \n",
       "0  1. Track labor costs\\n2. Analyze timesheets\\n3...  \n",
       "1  1. Improve reporting\\n2. Create reports\\n3. Bu...  \n",
       "2  1. Bid Profiling\\n2. Pricing Guidance\\n3. Marg...  \n",
       "3  1. Revenue MIS/Dashboard\\n2. Data Liaison\\n3. ...  \n",
       "4  1. Standard Reporting\\n2. Issue Resolution\\n3....  "
      ]
     },
     "execution_count": 7,
     "metadata": {},
     "output_type": "execute_result"
    }
   ],
   "source": [
    "Data.head()"
   ]
  },
  {
   "cell_type": "code",
   "execution_count": 15,
   "id": "dbe8b598-f764-4524-b076-8a597b4819d8",
   "metadata": {},
   "outputs": [],
   "source": [
    "titles = [\n",
    "    \"Finance Analyst\", \"Senior Business Financial Analyst\", \"Finance Analyst\", \"Business Finance Analyst\",\n",
    "    \"Senior Finance Analyst-Reporting and Analysis\", \"Associate Finance Analyst\", \"Financial Analyst\",\n",
    "    \"Financial Analyst\", \"Financial Analyst\", \"Analyst, Commercial Operations\", \"Financial Analyst\",\n",
    "    \"Financial Analyst - Investment Banking\", \"Junior Finance Analyst\", \"Coverage Finance Analyst\",\n",
    "    \"Financial Planning and Analysis Manager\", \"Sr. Associate - Financial Analyst\", \"Financial Analyst\",\n",
    "    \"Financial Analyst\", \"Financial Analyst\", \"Financial Analyst\", \"Analyst Responsible Investments\",\n",
    "    \"Sales and Commercial Finance Analyst\", \"Financial Reporting Analyst\", \"Analyst, Investment Operations\",\n",
    "    \"Financial Analyst\", \"Analyst - Financial Operations\", \"IR and Financial Analyst\", \"Finance Analyst\",\n",
    "    \"Analyst, Financial Planning & Analysis\", \"Finance Rptg Analyst\", \"Financial Analyst\",\n",
    "    \"Financial Plan & Analysis Analyst-Record To Report\", \"Analyst\", \"Financial Operations Analyst\",\n",
    "    \"Accounts Executive\", \"Credit Analyst\", \"Investment Banking Junior Analyst\", \"Digital Finance Analyst MDS\",\n",
    "    \"Investment Risk Analyst\", \"Financial Planning Analyst\", \"Credit Analyst\", \"Analyst, Cash and Asset Reconciliation\",\n",
    "    \"Financial Planning Analyst\", \"Financial Analyst\", \"Analyst-Trade Finance Operations\", \"FP&A Analyst\",\n",
    "    \"Financial Analyst Senior\", \"BPA Analyst\", \"Senior Analyst-FIU\"]"
   ]
  },
  {
   "cell_type": "code",
   "execution_count": 16,
   "id": "73d795e5-4ffe-4e4c-9b5e-6f69c1edb19b",
   "metadata": {},
   "outputs": [],
   "source": [
    "title_groups = {\"Financial Analyst / Finance Analyst\":[\"Finance Analyst\", \"Senior Business Financial Analyst\", \"Senior Finance Analyst-Reporting and Analysis\",\n",
    "        \"Associate Finance Analyst\", \"Financial Analyst\", \"Financial Analyst - Investment Banking\",\n",
    "        \"Junior Finance Analyst\", \"Coverage Finance Analyst\", \"Sr. Associate - Financial Analyst\",\n",
    "        \"Financial Reporting Analyst\", \"IR and Financial Analyst\", \"Finance Rptg Analyst\",\n",
    "        \"Financial Plan & Analysis Analyst-Record To Report\", \"Financial Operations Analyst\",\n",
    "        \"Digital Finance Analyst MDS\", \"Financial Planning Analyst\", \"Analyst-Trade Finance Operations\",\n",
    "        \"FP&A Analyst\", \"Financial Analyst Senior\", \"BPA Analyst\", \"Senior Analyst-FIU\"],\n",
    "                \"Business Analyst/commercial Analyst\":[\"Business Finance Analyst\", \"Analyst, Commercial Operations\", \"Analyst Responsible Investments\",\n",
    "        \"Sales and Commercial Finance Analyst\", \"Analyst, Investment Operations\", \"Analyst - Financial Operations\",\n",
    "        \"Analyst, Financial Planning & Analysis\", \"Investment Risk Analyst\", \"Analyst, Cash and Asset Reconciliation\",\n",
    "        \"Financial Planning Analyst\"],\n",
    "                \"Credit Analyst\":[\"Credit Analyst\", \"Investment Banking Junior Analyst\"],\n",
    "                \"General Analyst\":[\"Analyst\", \"Coverage Finance Analyst\"],\n",
    "                \"Accounts Executive\":[\"Accounts Executive\"]}"
   ]
  },
  {
   "cell_type": "code",
   "execution_count": 17,
   "id": "c6a9c376-bbff-4c2f-8c85-eba6232a1133",
   "metadata": {},
   "outputs": [],
   "source": [
    "def assign_group(title):\n",
    "    for group, titles in title_groups.items():\n",
    "        if title in titles:\n",
    "            return group\n",
    "    return \"Other\"        "
   ]
  },
  {
   "cell_type": "code",
   "execution_count": 18,
   "id": "639ea75a-bea4-4396-8382-f0d9b3b889f6",
   "metadata": {},
   "outputs": [],
   "source": [
    "data = pd.DataFrame({'title':titles})"
   ]
  },
  {
   "cell_type": "code",
   "execution_count": 22,
   "id": "604ae78d-ddba-406e-8255-c5d9c616d28d",
   "metadata": {},
   "outputs": [],
   "source": [
    "data['group'] = data['title'].apply(assign_group)\n",
    "group_counts = data['group'].value_counts()\n"
   ]
  },
  {
   "cell_type": "code",
   "execution_count": 24,
   "id": "ea73fd9a-f5b4-4568-a0a2-3cc1d1251a5d",
   "metadata": {},
   "outputs": [
    {
     "name": "stdout",
     "output_type": "stream",
     "text": [
      "group\n",
      "Financial Analyst / Finance Analyst    34\n",
      "Business Analyst/commercial Analyst     9\n",
      "Credit Analyst                          3\n",
      "Other                                   1\n",
      "General Analyst                         1\n",
      "Accounts Executive                      1\n",
      "Name: count, dtype: int64\n"
     ]
    }
   ],
   "source": [
    "print(group_counts)"
   ]
  },
  {
   "cell_type": "code",
   "execution_count": 35,
   "id": "05cbcca9-1c21-49c4-95ed-93c9feea543f",
   "metadata": {},
   "outputs": [],
   "source": [
    "G = nx.Graph()"
   ]
  },
  {
   "cell_type": "code",
   "execution_count": 36,
   "id": "e5526466-6caa-4d51-abdd-5d43a60d3dbf",
   "metadata": {},
   "outputs": [],
   "source": [
    "for group, titles in title_groups.items():\n",
    "    for title in titles:\n",
    "        G.add_node(title, group=group)\n",
    "        G.add_edge(group, title)"
   ]
  },
  {
   "cell_type": "code",
   "execution_count": 37,
   "id": "91e5d69e-0a6d-44c2-b180-95674e7dec53",
   "metadata": {},
   "outputs": [
    {
     "data": {
      "text/plain": [
       "<Figure size 1200x800 with 0 Axes>"
      ]
     },
     "metadata": {},
     "output_type": "display_data"
    }
   ],
   "source": [
    "plt.figure(figsize=(12, 8))\n",
    "pos = nx.spring_layout(G, k=0.3)\n"
   ]
  },
  {
   "cell_type": "code",
   "execution_count": 44,
   "id": "044ae11a-1059-4bd8-8aaf-0cca7f1b11d1",
   "metadata": {},
   "outputs": [
    {
     "ename": "KeyError",
     "evalue": "'group'",
     "output_type": "error",
     "traceback": [
      "\u001b[1;31m---------------------------------------------------------------------------\u001b[0m",
      "\u001b[1;31mKeyError\u001b[0m                                  Traceback (most recent call last)",
      "Cell \u001b[1;32mIn[44], line 4\u001b[0m\n\u001b[0;32m      2\u001b[0m mapping \u001b[38;5;241m=\u001b[39m {group: i \u001b[38;5;28;01mfor\u001b[39;00m i, group \u001b[38;5;129;01min\u001b[39;00m \u001b[38;5;28menumerate\u001b[39m(groups)}\n\u001b[0;32m      3\u001b[0m nodes \u001b[38;5;241m=\u001b[39m G\u001b[38;5;241m.\u001b[39mnodes(data\u001b[38;5;241m=\u001b[39m\u001b[38;5;28;01mTrue\u001b[39;00m)\n\u001b[1;32m----> 4\u001b[0m colors \u001b[38;5;241m=\u001b[39m [mapping[data[\u001b[38;5;124m'\u001b[39m\u001b[38;5;124mgroup\u001b[39m\u001b[38;5;124m'\u001b[39m]] \u001b[38;5;28;01mfor\u001b[39;00m _, data \u001b[38;5;129;01min\u001b[39;00m nodes]\n\u001b[0;32m      6\u001b[0m nx\u001b[38;5;241m.\u001b[39mdraw(G, pos, with_labels\u001b[38;5;241m=\u001b[39m\u001b[38;5;28;01mTrue\u001b[39;00m, node_color\u001b[38;5;241m=\u001b[39mcolors, node_size\u001b[38;5;241m=\u001b[39m\u001b[38;5;241m5000\u001b[39m, cmap\u001b[38;5;241m=\u001b[39mplt\u001b[38;5;241m.\u001b[39mcm\u001b[38;5;241m.\u001b[39mrainbow, font_size\u001b[38;5;241m=\u001b[39m\u001b[38;5;241m10\u001b[39m, font_color\u001b[38;5;241m=\u001b[39m\u001b[38;5;124m'\u001b[39m\u001b[38;5;124mblack\u001b[39m\u001b[38;5;124m'\u001b[39m, font_weight\u001b[38;5;241m=\u001b[39m\u001b[38;5;124m'\u001b[39m\u001b[38;5;124mbold\u001b[39m\u001b[38;5;124m'\u001b[39m)\n",
      "Cell \u001b[1;32mIn[44], line 4\u001b[0m, in \u001b[0;36m<listcomp>\u001b[1;34m(.0)\u001b[0m\n\u001b[0;32m      2\u001b[0m mapping \u001b[38;5;241m=\u001b[39m {group: i \u001b[38;5;28;01mfor\u001b[39;00m i, group \u001b[38;5;129;01min\u001b[39;00m \u001b[38;5;28menumerate\u001b[39m(groups)}\n\u001b[0;32m      3\u001b[0m nodes \u001b[38;5;241m=\u001b[39m G\u001b[38;5;241m.\u001b[39mnodes(data\u001b[38;5;241m=\u001b[39m\u001b[38;5;28;01mTrue\u001b[39;00m)\n\u001b[1;32m----> 4\u001b[0m colors \u001b[38;5;241m=\u001b[39m [mapping[data[\u001b[38;5;124m'\u001b[39m\u001b[38;5;124mgroup\u001b[39m\u001b[38;5;124m'\u001b[39m]] \u001b[38;5;28;01mfor\u001b[39;00m _, data \u001b[38;5;129;01min\u001b[39;00m nodes]\n\u001b[0;32m      6\u001b[0m nx\u001b[38;5;241m.\u001b[39mdraw(G, pos, with_labels\u001b[38;5;241m=\u001b[39m\u001b[38;5;28;01mTrue\u001b[39;00m, node_color\u001b[38;5;241m=\u001b[39mcolors, node_size\u001b[38;5;241m=\u001b[39m\u001b[38;5;241m5000\u001b[39m, cmap\u001b[38;5;241m=\u001b[39mplt\u001b[38;5;241m.\u001b[39mcm\u001b[38;5;241m.\u001b[39mrainbow, font_size\u001b[38;5;241m=\u001b[39m\u001b[38;5;241m10\u001b[39m, font_color\u001b[38;5;241m=\u001b[39m\u001b[38;5;124m'\u001b[39m\u001b[38;5;124mblack\u001b[39m\u001b[38;5;124m'\u001b[39m, font_weight\u001b[38;5;241m=\u001b[39m\u001b[38;5;124m'\u001b[39m\u001b[38;5;124mbold\u001b[39m\u001b[38;5;124m'\u001b[39m)\n",
      "\u001b[1;31mKeyError\u001b[0m: 'group'"
     ]
    }
   ],
   "source": [
    "groups = set(nx.get_node_attributes(G, 'group').values())\n",
    "mapping = {group: i for i, group in enumerate(groups)}\n",
    "nodes = G.nodes(data=True)\n",
    "colors = [mapping[data['group']] for _, data in nodes]\n",
    "\n",
    "nx.draw(G, pos, with_labels=True, node_color=colors, node_size=5000, cmap=plt.cm.rainbow, font_size=10, font_color='black', font_weight='bold')"
   ]
  }
 ],
 "metadata": {
  "kernelspec": {
   "display_name": "Python 3 (ipykernel)",
   "language": "python",
   "name": "python3"
  },
  "language_info": {
   "codemirror_mode": {
    "name": "ipython",
    "version": 3
   },
   "file_extension": ".py",
   "mimetype": "text/x-python",
   "name": "python",
   "nbconvert_exporter": "python",
   "pygments_lexer": "ipython3",
   "version": "3.11.7"
  }
 },
 "nbformat": 4,
 "nbformat_minor": 5
}
